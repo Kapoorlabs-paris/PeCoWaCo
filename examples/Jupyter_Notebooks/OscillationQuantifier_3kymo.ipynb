{
 "cells": [
  {
   "cell_type": "code",
   "execution_count": 2,
   "metadata": {},
   "outputs": [],
   "source": [
    "import sys\n",
    "sys.path.append('../../')\n",
    "import numpy as np\n",
    "from scipy import signal\n",
    "from scipy.fftpack import fftfreq\n",
    "from PIL import Image\n",
    "import os\n",
    "from pecowaco.plot_utils import multiplot, doubleplot,  tripleplot, quadplot, doubleplotline, multiplotline, overlaymultiplot, plotXY,singleplot\n",
    "from scipy.signal import blackman\n",
    "from tifffile import imread\n",
    "from mpl_toolkits.mplot3d import Axes3D\n",
    "\n",
    "from matplotlib.ticker import LinearLocator, FormatStrFormatter\n",
    "from scipy.fftpack import fft\n",
    "import matplotlib.pyplot as plt\n",
    "from matplotlib.colors import LogNorm\n",
    "from pecowaco.Normalize import normalizeFloat, normalizeMinMax, Path, save_tiff_imagej_compatible\n",
    "from bokeh.plotting import figure, output_file, show\n",
    "from bokeh.io import export_png, output_notebook\n",
    "from scipy.signal import find_peaks\n",
    "from pecowaco.Strip2DFFT import show_peak, doFilterFFT, do2DFFT, do2DInverseFFT, CrossCorrelation, CrossCorrelationStrip, doFilterFFT, do2DFFT, do2DInverseFFT, FFTStrip, RMSStrip\n",
    "\n",
    "import csv\n",
    "import pandas as pd"
   ]
  },
  {
   "cell_type": "markdown",
   "metadata": {},
   "source": [
    "In the block below specify the target directory in which the result images would be written. Specify the full path to the Kymograph image for curvature and intensity to compute auto and cross correlation peaks for both. The axes keyword tells the program that it is seeing an X-Y image"
   ]
  },
  {
   "cell_type": "code",
   "execution_count": null,
   "metadata": {},
   "outputs": [],
   "source": [
    "targetdir = '../savedir/'\n",
    "#For curvature\n",
    "sourceimageA = '../data/imageA.tif'\n",
    "sourceimageB = '../data/imageB.tif'\n",
    "sourceimageC = '../data/imageC.tif'\n",
    "\n",
    "SaveFileName = \"Curvature-Curvature\";\n",
    "\n",
    "base = os.path.split(sourceimageA)[-1]\n",
    "\n",
    "Filename = os.path.splitext(base)\n",
    "axes = 'YX'\n",
    "\n",
    "#Method Used : Circlefit = 0, DistanceMethod = 1\n",
    "\n",
    "\n",
    "#ETrack resolution choise, integer above 1\n",
    "ResolutionUsed = 1\n",
    "#Enter time unit in seconds\n",
    "Time_unit = 5\n",
    "#Enter pixel to micrometer conversion\n",
    "Xcalibration = 0.1032\n",
    "\n",
    "\n",
    "#Set this to true to make FFT axis dimensionless\n",
    "Normalization = True\n"
   ]
  },
  {
   "cell_type": "markdown",
   "metadata": {},
   "source": [
    "In the block below we read the two images using custom made imread function for tifffiles and displaying them"
   ]
  },
  {
   "cell_type": "code",
   "execution_count": null,
   "metadata": {
    "scrolled": false
   },
   "outputs": [],
   "source": [
    "originalimageA = imread(sourceimageA)\n",
    "originalimageB = imread(sourceimageB)\n",
    "originalimageC = imread(sourceimageC)\n",
    "\n",
    "tripleplot(originalimageA, originalimageB, originalimageC,  \"Original Image Curvature\",\"Original Image Distance\", \"Original Image mTmG Intensity\")\n",
    "ApproximatePerimeter = originalimageA.shape[0] * ResolutionUsed *Xcalibration\n"
   ]
  },
  {
   "cell_type": "markdown",
   "metadata": {},
   "source": [
    "# Fourier Transform of a block of Kymograph\n",
    "\n",
    "Parameters to be specified:\n",
    "\n",
    "1) Time_unit = frame to second conversion for the experiment\n",
    "\n",
    "2) StartSection = Starting of the block at this pixel unit\n",
    "\n",
    "3) EndSection = Ending of the block at this pixel unit\n",
    "\n",
    "4) Max Range in hertz for the Fourier transform plot"
   ]
  },
  {
   "cell_type": "markdown",
   "metadata": {},
   "source": [
    "# Reset block"
   ]
  },
  {
   "cell_type": "code",
   "execution_count": null,
   "metadata": {},
   "outputs": [],
   "source": [
    "#Enter start and end y pixel unit for the section\n",
    "Start_Sec = 0\n",
    "End_Sec = 800 #originalimageA.shape[0]\n",
    "#Enter start and end x pixel unit for the section\n",
    "Starttime = 0\n",
    "Endtime = originalimageA.shape[1]\n",
    "\n",
    "\n",
    "\n",
    "imageA = originalimageA[Start_Sec:End_Sec, Starttime:Endtime]\n",
    "imageB = originalimageB[Start_Sec:End_Sec, Starttime:Endtime]\n",
    "imageC = originalimageC[Start_Sec:End_Sec, Starttime:Endtime]\n"
   ]
  },
  {
   "cell_type": "code",
   "execution_count": null,
   "metadata": {
    "scrolled": false
   },
   "outputs": [],
   "source": [
    "#Range of Plot in Hertz\n",
    "maxXrange = 1\n",
    "MethodUsed = 0  \n",
    "Normalization = True\n",
    "\n",
    "\n",
    "min = 0;\n",
    "max = 1;\n",
    "imageA = normalizeMinMax(imageA, min, max)\n",
    "imageC = normalizeMinMax(imageC, min, max)\n",
    "\n",
    "\n",
    "#Max Projection\n",
    "rmsA, peri = RMSStrip(imageA, Xcalibration)\n",
    "rmsC, peri = RMSStrip(imageC, Xcalibration)\n",
    "\n",
    "\n",
    "\n",
    "    \n",
    "\n",
    "if Normalization:\n",
    "    \n",
    "    if MethodUsed == 1:\n",
    "     rmsA = rmsA / ApproximatePerimeter\n",
    "     rmsC = rmsC / ApproximatePerimeter\n",
    "    \n",
    "    \n",
    "    if MethodUsed == 0:\n",
    "     rmsA = rmsA * ApproximatePerimeter\n",
    "     rmsC = rmsC * ApproximatePerimeter\n",
    "     \n",
    "        \n",
    "        \n",
    "        \n",
    "p = figure(title='RMS Curvature Amplitude', x_axis_label='Perimeter' , y_axis_label='Amplitude' + '(' + '1/um'  + ')', \n",
    "           x_range=(0,int(np.round(Xcalibration *imageA.shape[0]))), y_range=(0,1.2*np.max(rmsA)))\n",
    "p.line(peri ,rmsA, line_width = 2)\n",
    "\n",
    "output_notebook()\n",
    "show(p)\n",
    "export_png(p, filename=targetdir + 'RMS_Curvature_Amplitude_' + Filename[0] + '.png')\n",
    "\n",
    "\n",
    "p = figure(title='RMS mTmG intensity', x_axis_label='Perimeter' , y_axis_label='Amplitude', \n",
    "           x_range=(0,int(np.round(Xcalibration * imageC.shape[0]))), y_range=(0,1.2*np.max(rmsC)))\n",
    "p.line(peri,rmsC, line_width = 2)\n",
    "\n",
    "output_notebook()\n",
    "show(p)\n",
    "export_png(p, filename=targetdir + 'RMS_mtmG_intensity_Amplitude_' + Filename[0] + '.png')\n",
    "\n",
    "\n",
    "\n",
    "block = End_Sec- Start_Sec\n",
    "axes = 'YX'\n",
    "\n",
    "\n",
    "\n"
   ]
  },
  {
   "cell_type": "code",
   "execution_count": null,
   "metadata": {},
   "outputs": [],
   "source": [
    "#Range of Plot in Hertz\n",
    "maxXrange = 1\n",
    "MethodUsed = 1\n",
    "Normalization = True\n",
    "\n",
    "\n",
    "min = 0;\n",
    "max = 1;\n",
    "imageB = normalizeMinMax(imageB, min, max)\n",
    "\n",
    "#Max Projection\n",
    "\n",
    "rmsB, peri = RMSStrip(imageB, Xcalibration)\n",
    "\n",
    "\n",
    "if Normalization:\n",
    "    \n",
    "    if MethodUsed == 1:\n",
    "     rmsB = rmsB / ApproximatePerimeter\n",
    "    \n",
    "    if MethodUsed == 0:\n",
    "     rmsB = rmsB * ApproximatePerimeter\n",
    "        \n",
    "        \n",
    "        \n",
    "\n",
    "p = figure(title='RMS Distance Amplitude', x_axis_label='Perimeter' , y_axis_label='Amplitude'+ '(' + 'um'  + ')', \n",
    "           x_range=(0,int(np.round(Xcalibration * imageB.shape[0]))), y_range=(0,1.2*np.max(rmsB)))\n",
    "p.line(peri,rmsB, line_width = 2)\n",
    "\n",
    "output_notebook()\n",
    "show(p)\n",
    "export_png(p, filename=targetdir + 'RMS_Distance_Amplitude_' + Filename[0] + '.png')\n",
    "\n",
    "block = End_Sec- Start_Sec\n",
    "axes = 'YX'\n",
    "\n",
    "\n",
    "\n",
    "\n"
   ]
  },
  {
   "cell_type": "markdown",
   "metadata": {},
   "source": [
    "Cut the Kymograph from the start to the endsection value as specified above"
   ]
  },
  {
   "cell_type": "markdown",
   "metadata": {},
   "source": [
    "Show the FFT image along with the original image and save it as a tiff file in the target directory, also save the 1D projection of the twoDFFT as a png file"
   ]
  },
  {
   "cell_type": "code",
   "execution_count": null,
   "metadata": {
    "scrolled": false
   },
   "outputs": [],
   "source": [
    "\n",
    "TwoDimage = FFTStrip(imageA)\n",
    "doubleplot(imageA, TwoDimage, \"Original Image curvature\",  \"FFT_curvature\")\n",
    "save_tiff_imagej_compatible((targetdir + \"TwoDFFT_Curvature_out_\" +os.path.basename(Filename[0]) +os.path.basename(Filename[1]) ) , TwoDimage, axes)\n",
    "\n",
    "#Peak location\n",
    "veto_frequ = 0.004\n",
    "#FFT\n",
    "allfrequ = 0\n",
    "onedimg, frequ = doFilterFFT(imageA, Time_unit, False)\n",
    "allfrequ=onedimg\n",
    "\n",
    "\n",
    "frqY = show_peak(onedimg, frequ, veto_frequ) \n",
    "\n",
    "p = figure(title='FFT (hertz) deformation', x_axis_label='Frequency' , y_axis_label='Amplitude'+ '(' + '1/um' + ')')\n",
    "p.line(frequ, onedimg, legend =  'Frequ =' + str('%.3f'%(frqY))+'Hz', line_width = 2)\n",
    "\n",
    "Name = targetdir + 'FFTPlotBokeh_curvature_' + Filename[0]\n",
    "\n",
    "\n",
    "output_notebook()\n",
    "show(p)\n",
    "export_png(p, filename= Name+ '.png')"
   ]
  },
  {
   "cell_type": "code",
   "execution_count": null,
   "metadata": {},
   "outputs": [],
   "source": [
    "df = pd.DataFrame(list(zip(frequ,onedimg)),columns =['Frequency', 'Amplitude'])\n",
    "df.to_csv(Name +  '.csv', index = False)  \n",
    "df\n"
   ]
  },
  {
   "cell_type": "code",
   "execution_count": null,
   "metadata": {},
   "outputs": [],
   "source": [
    "\n",
    "TwoDimage = FFTStrip(imageB)\n",
    "doubleplot(imageB, TwoDimage, \"Original Image Distance\",  \"FFT_Distance\")\n",
    "save_tiff_imagej_compatible((targetdir + \"TwoDFFT_Distance_out_\" +os.path.basename(Filename[0]) +os.path.basename(Filename[1]) ) , TwoDimage, axes)\n",
    "#Peak location\n",
    "veto_frequB = 0.001\n",
    "\n",
    "allfrequB = 0\n",
    "onedimgB, frequB = doFilterFFT(imageB, Time_unit, False)\n",
    "allfrequB=onedimgB\n",
    "\n",
    "\n",
    "frqYB = show_peak(onedimgB, frequB, veto_frequB) \n",
    "\n",
    "p = figure(title='FFT (hertz) Distance', x_axis_label='Frequency' , y_axis_label='Amplitude'+ '(' + 'um' + ')')\n",
    "p.line(frequB, onedimgB, legend =  'Frequ =' + str('%.3f'%(frqYB))+'Hz', line_width = 2)\n",
    "\n",
    "\n",
    "Name = targetdir + 'FFTPlotBokeh_Distance_' + Filename[0]\n",
    " \n",
    "\n",
    "output_notebook()\n",
    "show(p)\n",
    "export_png(p, filename= Name+ '.png')"
   ]
  },
  {
   "cell_type": "code",
   "execution_count": null,
   "metadata": {},
   "outputs": [],
   "source": [
    "df = pd.DataFrame(list(zip(frequ,onedimg)),columns =['Frequency', 'Amplitude'])\n",
    "df.to_csv(Name +  '.csv', index = False) \n",
    "df"
   ]
  },
  {
   "cell_type": "code",
   "execution_count": null,
   "metadata": {},
   "outputs": [],
   "source": [
    "\n",
    "TwoDimage = FFTStrip(imageC)\n",
    "doubleplot(imageC, TwoDimage, \"Original Image mTmG intensity\",  \"FFT_mTmG_intensity\")\n",
    "save_tiff_imagej_compatible((targetdir + \"TwoDFFT_mTmG_intensity_out_\" +os.path.basename(Filename[0]) +os.path.basename(Filename[1]) ) , TwoDimage, axes)\n",
    "\n",
    "#Peak location\n",
    "veto_frequC = 0.001\n",
    "allfrequC = 0\n",
    "onedimgC, frequC = doFilterFFT(imageC, Time_unit, False)\n",
    "allfrequC=onedimgC\n",
    "frqYC = show_peak(onedimgC, frequC, veto_frequC) \n",
    "\n",
    "p = figure(title='FFT (hertz) mTmG intensity', x_axis_label='Frequency' , y_axis_label='Amplitude')\n",
    "p.line(frequC, onedimgC, legend =  'Frequ =' + str('%.3f'%(frqYC))+'Hz', line_width = 2)\n",
    "\n",
    "Name = targetdir + 'FFTPlotBokeh_mTmG_intensity_' + Filename[0]\n",
    "\n",
    "\n",
    "output_notebook()\n",
    "show(p)\n",
    "export_png(p, filename= Name+ '.png')"
   ]
  },
  {
   "cell_type": "code",
   "execution_count": null,
   "metadata": {
    "scrolled": true
   },
   "outputs": [],
   "source": [
    "df = pd.DataFrame(list(zip(frequ,onedimg)),columns =['Frequency', 'Amplitude'])\n",
    "df.to_csv(Name +  '.csv', index = False)  \n",
    "df\n"
   ]
  }
 ],
 "metadata": {
  "kernelspec": {
   "display_name": "Python [conda env:tensorflowGPU] *",
   "language": "python",
   "name": "conda-env-tensorflowGPU-py"
  },
  "language_info": {
   "codemirror_mode": {
    "name": "ipython",
    "version": 3
   },
   "file_extension": ".py",
   "mimetype": "text/x-python",
   "name": "python",
   "nbconvert_exporter": "python",
   "pygments_lexer": "ipython3",
   "version": "3.8.5"
  }
 },
 "nbformat": 4,
 "nbformat_minor": 2
}
